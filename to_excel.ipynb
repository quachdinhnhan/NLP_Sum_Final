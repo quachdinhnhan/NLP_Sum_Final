{
 "cells": [
  {
   "cell_type": "code",
   "execution_count": 11,
   "id": "f706a91e",
   "metadata": {},
   "outputs": [],
   "source": [
    "import pandas as pd\n",
    "import json\n",
    "from pandas import json_normalize\n",
    "\n",
    "# # Load JSON content from the file\n",
    "with open('output/evaluation_cosine.json', 'r') as file:\n",
    "    data = json.load(file)\n",
    "if isinstance(data, dict):\n",
    "    data = [dict(file=k, **v) for k, v in data.items()]\n",
    "# # If JSON is a list of dictionaries or nested, normalize it\n",
    "df = json_normalize(data)\n",
    "# # Save to CSV file\n",
    "df.to_csv('output/output2.csv', index=False)\n",
    "# # Save to Excel file\n",
    "# df.to_excel('output/output.xlsx', index=False)"
   ]
  }
 ],
 "metadata": {
  "kernelspec": {
   "display_name": "py312",
   "language": "python",
   "name": "python3"
  },
  "language_info": {
   "codemirror_mode": {
    "name": "ipython",
    "version": 3
   },
   "file_extension": ".py",
   "mimetype": "text/x-python",
   "name": "python",
   "nbconvert_exporter": "python",
   "pygments_lexer": "ipython3",
   "version": "3.12.11"
  }
 },
 "nbformat": 4,
 "nbformat_minor": 5
}
