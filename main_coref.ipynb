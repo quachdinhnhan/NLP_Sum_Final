{
 "cells": [
  {
   "cell_type": "code",
   "execution_count": 1,
   "id": "596f773d",
   "metadata": {},
   "outputs": [
    {
     "name": "stdout",
     "output_type": "stream",
     "text": [
      "<class 'str'>\n",
      "<class 'dict'>\n",
      "<class 'str'>\n"
     ]
    }
   ],
   "source": [
    "from Sum_module.file_reader import FileReader\n",
    "from Sum_module.parse_doc import ParseDoc\n",
    "\n",
    "filename = 'd112h'\n",
    "input_file_path = f'data/DUC_TEXT/test/{filename}'\n",
    "doc_file = FileReader(input_file_path).read_file()\n",
    "print(type(doc_file))\n",
    "# print(doc_file)  # Uncomment to see the content of the document\n",
    "sentences_dict = ParseDoc.parse_doc(doc_file)\n",
    "print(type(sentences_dict))\n",
    "# print(sentences_dict)\n",
    "# print(sentences_dict[0]['sentence_text'])\n",
    "\n",
    "# save all sentence_text inorder to a string\n",
    "sorted_sentences_keys = sorted(sentences_dict.keys())\n",
    "full_text = ' '.join(sentences_dict[key]['sentence_text'] for key in sorted_sentences_keys)\n",
    "print (type(full_text))\n",
    "# print(full_text)"
   ]
  },
  {
   "cell_type": "code",
   "execution_count": 2,
   "id": "a595bc64",
   "metadata": {},
   "outputs": [
    {
     "name": "stdout",
     "output_type": "stream",
     "text": [
      "Text has been written to output.txt\n"
     ]
    }
   ],
   "source": [
    "import os\n",
    "with open(\"output/full_text_d112h\", \"w\", encoding=\"utf-8\") as f:\n",
    "    f.write(full_text)\n",
    "\n",
    "print(\"Text has been written to output.txt\")"
   ]
  },
  {
   "cell_type": "code",
   "execution_count": 3,
   "id": "3a19c4d0",
   "metadata": {},
   "outputs": [
    {
     "name": "stdout",
     "output_type": "stream",
     "text": [
      "{'doc_id': 'FT922-1115', 'num': '6', 'wdcount': 50, 'sentence_text': 'MR MICHAEL STONEY, a senior executive in a number of Maxwell companies, is named as one of three people primarily responsible for more than Pounds 180m of \\'unusual\\' payments from Mirror Group Newspapers bank accounts during the last financial year, according to the chairman\\'s statement released with MGN accounts yesterday. Mr Kevin Maxwell and Mr Ian Maxwell, two sons of the late Robert Maxwell, are named as the other two people most involved in these transactions. Mr Kevin Maxwell and Mr Stoney refused to provide MGN with information, the statement says. Sir Robert Clark, chairman of MGN, lists a series of transactions - some of which he stresses may have been perfectly legitimate - that took place in the past few months. He says legal action may be taken against a number of organisations, including Goldman Sachs, the US investment bank, over more than Pounds 40m in transfers from MGN if the bank was aware that they were \\'effected for improper purposes\\'. Notes to the accounts show that MGN made extraordinary provisions of Pounds 421.5m in the year to December 29 1991, including Pounds 208.6m in pension deficiencies and Pounds 122.4m in transactions with Maxwell-controlled companies. Sir Robert says that during the year there were at least 28 \\'unusual\\' payments for more than Pounds 1m from the group\\'s bank accounts, making a total of more than Pounds 180m. \\'Some may well ultimately be established to have arisen under legitimate transactions\\'. Nine of the payments were authorised solely by Robert Maxwell. The others were authorised mainly by Mr Kevin Maxwell, Mr Ian Maxwell and Mr Michael Stoney, he says. One transfer to Goldman Sachs was countersigned by Mr Ernest Burrington, former managing director, at the request of Mr Kevin Maxwell on the reported instruction of Robert Maxwell. Two authorisations were countersigned by Mr Lawrence Guest, former MGN finance director. Sir Robert says the MGN directors do not believe that either Mr Burrington or Mr Guest knew there was anything improper about these payments. With these exceptions, \\'the independent directors . . . were not involved in, and did not authorise or approve any of these payments,\\' he says. Sir Robert says the group finance department accepted assurances from the treasury department - which was headed by Mr Stoney - about \\'the nature of certain transactions\\' including payments to financial institutions which were recorded as deposits. \\'The treasury department arranged for it to appear that sums of interest had been credited to the group in respect of those \\'deposits\\',\\' he says. In his report Sir Robert points to \\'certain weaknesses\\' accepted by the MGN board: Internal controls and operating procedures which failed to identify related party transactions and bring them to the attention of independent directors for approval; Bank mandates authorised by Robert Maxwell and Mr Stoney which permitted the movement of group funds on the authority of Maxwell or directors who were also directors of Maxwell-controlled companies; The audit committee of non-executive directors, which might have reviewed systems and mandates, but was not convened; The finance department\\'s inadequate authority to verify and record the treasury department\\'s activities. The report details a Pounds 50m loan made by Bankers Trust in London last October which appears to have been used to pay off a loan from Bankers Trust in New York to Robert Maxwell Group, parent of the Maxwell private interests, Separately, the statement highlights three transfers of more than Pounds 40m from MGN to Goldman Sachs - Pounds 11m of this was transferred on Robert Maxwell\\'s signature to pay for previous dealings in Maxwell Communication Corporation stock. The balance was for foreign exchange trade exposures incurred by Bishopsgate Investment Trust and Robert Maxwell Group, it says. He says MGN is inquiring to see whether it can establish if Goldman Sachs was \\'aware or should have been aware\\' that the transfers \\'had been effected for improper purposes\\'. If so, he says \\'it will be possible to seek orders against them . . . for the sums paid\\'. He says MGN is considering legal action against professional advisers in relation to property leases, and hopes to recover money through claims on insurance policies written on Robert Maxwell\\'s life . The Financial Times London Page 8 ABOUT 20 banks became con-cerned last summer at the behaviour of businesses run by Robert Maxwell several months before he died and his business empire collapsed. Their concern arose when Maxwell Communication Corporation made late payments to them, a Financial Times investigation has discovered. Yet although some banks became alarmed at the implications for the financial health of his empire, they did not discuss their concerns with each other or with authorities such as the Bank of England. Mr Basil Brookes, MCC\\'s former finance director, has described his shock to the FT at discovering last August that MCC had failed to settle foreign currency transactions with about 20 banks on time. Starting about July 4 1991, MCC\\'s treasury, under the authority of Maxwell and his son, Kevin, had begun to buy and sell enormous amounts of foreign currencies. In these \\'spot\\' transactions, MCC would buy a currency in one financial centre promising to make payment in another centre. On a number of occasions, MCC received the currency, but did not make the payment - thereby giving itself an unauthorised loan. Mr Brookes says about 20 banks, including Lloyds, Bank of America, Goldman Sachs and Swiss Bank Corporation, were involved in the flurry of foreign exchange deals. At least Dollars 100m (Pounds 55m) in unapproved credit is thought to have been raised this way. A former Maxwell employee said some appeared to have been channelled into private Maxwell businesses. One banker said attempts to raise money by making late payments in the foreign market was a relatively well-known ruse with the nickname called \\'teaming and lading\\'. It also emerged yesterday that National Westminster Bank, the biggest lender to the Maxwell private companies, felt badly let down by Maxwell because he failed to deliver funds on time at the end of July. At a meeting between Maxwell and Mr John Melbourn, a NatWest director, on July 10, NatWest refused Maxwell\\'s request for a loan of Pounds 45m. NatWest was upset three weeks later when it provided funds - less than Pounds 100m - to the Maxwell empire on the understanding that it would be repaid the same day, and then found that repayment was not made. NatWest was forced to convert this \\'intra-day\\' transaction into a short-term loan, which was eventually repaid. The bank told both Robert Maxwell and Mr Kevin Maxwell that it was concerned that repayment had not been made, but it did not discuss the problem with other banks or with the Bank of England. Instead, it pressed on with its policy of reducing the size of its loans to the Maxwell businesses. NatWest\\'s loans to the Maxwell empire now total Pounds 182m, half the level of two years ago. Later last year, Robert Maxwell made many repayments to banks by looting pension fund assets and also carrying out unusual fundraising exercises with US investment banks, from which tens of millions of dollars were borrowed at a high price. \\'Trust me\\', Weekend I Maxwell lessons, Weekend IV The Financial Times London Page 1 DOCUMENTS which show for the first time that both Mr Robert Maxwell and his son Kevin were intimately involved in substantial purchases of shares in Maxwell Communication Corporation, one of their own public companies, have been obtained by the Financial Times. Meanwhile, a director of a secretive Swiss trust, Mr Werner Rechsteiner, has broken his silence and has admitted that transfers of MCC shares to his trust, which are at the centre of an investigation by the Serious Fraud Office, were made on the instructions of Robert Maxwell. This is the first time that Mr Rechsteiner has given details of the relationship between his mysterious trust, Yakosa Finanzierungs, and the Maxwell family. The FT has also obtained a letter and has seen a corroborating fax which shows that Mr Kevin Maxwell was intimately involved in the purchase of 9m shares by Yakosa and a further 16m shares by Servex, another Swiss Trust. The MCC purchases by Yakosa and Servex are the object of an investigation by the SFO into an alleged illegal scheme to support the MCC share price. The SFO is also investigating whether Mr Robert Maxwell or Mr Kevin Maxwell breached the Companies Act by failing to disclose the purchases of the shares by the Swiss trusts. If either had a financial interest in the Swiss trusts, the purchases should have been disclosed under company law, because they were both directors of MCC. The documents demonstrate that Bishopsgate Investment Trust, a private UK company controlled by the Maxwell family, provided Pounds 55.33m on behalf of the two Swiss trusts so that they could pay for the MCC shares. Goldman Sachs, the US investment bank, acted as broker to the deals. Goldman\\'s lawyers are convinced that it acted properly. Mr Rechsteiner yesterday broke the silence he has maintained since Robert Maxwell\\'s death in November on the subject of his relationship with the Maxwell family. He said MCC share purchases had been \\'going on for some time\\' through Yakosa. He denied that the shares were bought for Yakosa\\'s \\'own account\\'. He said the shares were bought for other \\'foundations\\' and then \\'held for a certain time\\'. He also stressed that ownership of the MCC shares no longer rested with Robert Maxwell once they had been received by Yakosa: \\'Yakosa is owned by the Maxwell Foundation,\\' he said. Mr Rechsteiner refused to say who controlled the Maxwell Foundation, which is based in Liechtenstein, but said it was neither Robert nor Kevin Maxwell. The FT has however obtained documents showing that Mr Kevin Maxwell was closely involved in the process of paying for 25m MCC shares on behalf of two Swiss trusts, Yakosa and Servex. On May 29 last year, Mr Kevin Maxwell sent a fax to Mr Larry Wood, an executive director of Goldman Sachs, telling him that two parcels of 12.5m MCC shares each would be bought by the Swiss trusts with Pounds 55.33m provided by BIT, a Maxwell private company. The fax, signed by Mr Maxwell, said that the funds would be remitted to Goldman Sachs \\'by Bishopsgate Investment Trust PLC from its account at National Westminter Bank plc, 41 Lothbury\\'. Two other faxes sent by Mr Kevin Maxwell to Mr Wood on the same day show that the former was equally involved in the other end of the transaction, the sale of the 25m shares. The Swiss trusts bought the shares, using Goldman as broker, from two Maxwell pension funds, Maxwell Communication Pension Trustee (Works Scheme) and Mirror Group Newspaper Pension Trustee (Works Scheme). Each pension fund sold 12.5m shares at a price of 219.78p a share, or Pounds 27.47m in total. At 6.29pm on May 29, Mr Maxwell sent the two other faxes to Mr Wood on behalf of the two pension funds. As a director of MGPT and as a trustee of MCCPT, he told Mr Wood to pay each pension fund what it was owed to the NatWest account of BIT, which Mr Maxwell described as \\'nominee\\' for the two pension funds. In other words, he told Mr Wood that the shares were being bought for the Swiss trusts with funds provided by BIT and that these funds should then be sent by Goldman back to BIT. In the event, on May 31, Goldman received the Pounds 55.3m by wire transfer in its account at Barclays. Goldman then levied its commission and expenses on the deal of Pounds 385,000 and wired the remainder back to BIT\\'s NatWest account. Scots bank bows out, Page 8 Claims to Israeli shares, Page 8 The Financial Times London Page 1 THE LATE Mr Robert Maxwell liked to think of himself as a \\'strong \\' chess player and there was always a chess set in his suite in his London headquarters. \\'There is no evidence to suggest that Maxwell actually was a strong player or that he played in any tournaments,\\' said Mr Malcolm Pein, international chess master and director of Chess and Bridge, which yesterday took over the business and assets of Maxwell Macmillan Chess and Bridge. There may be doubts about Robert Maxwell\\'s strength as a player but less about his enthusiasm for the game. In 1990, through The European newspaper, he sponsored a section of the World Chess championships in New York. And when Pergamon was sold to Elsevier last year Maxwell kept the chess and bridge publishing businesses. Mr Pein said it had taken most of the year since Mr Maxwell\\'s death to prise the businesses, which include Chess Monthly and Bridge Monthly from the administrators to the Maxwell empire. \\'Price Waterhouse took months and months to come up with any information about the company,\\' said Mr Pein. Even when the new company had reached agreement to buy the business from Price Waterhouse, administrator to the public Maxwell companies they then ran into trouble with Arthur Andersen, administrator to the private Maxwell businesses. Mr Pein said the new company wanted to use and pay for the premises of Maxwell Macmillan Chess and Bridge - prefabricated buildings in the village of Wheatley, Oxfordshire - until they found permanent premises. However, he said that Arthur Andersen wanted two years back rent. Despite the year of difficulties, Chess and Bridge is now set up in new premises in Euston Road, London. The company said it had the largest collection of chess and bridge books and products in the UK . The Financial Times London Page 28 Sir Nicholas Lyell QC, the attorney-general, will attempt to stop the curtain rising on Maxwell: The Musical, the West End show chronicling the life and times of the late Robert Maxwell. Fears that the musical might prejudice the criminal trial of the late publisher\\'s sons, Kevin and Ian, have prompted Sir Nicholas to apply to the High Court on Monday for an injunction to halt the production. The musical tells the tycoon\\'s life story through updated versions of familiar tunes from Gilbert and Sullivan. Now in rehearsal, the show is due to open at London\\'s Criterion theatre on February 11. The attorney-general\\'s move to close down a West End production before its first night is regarded as without precedent. However, it is no more unprecedented, most lawyers say, than the prospect of the Maxwell brothers having to commute to their trial at the Old Bailey past a theatre advertising the story of their father as \\'the musical review that will make you laugh, sing - and be angry\\'. The musical, which has cost Pounds 1.1m to put on, has been produced by Mr Evan Steadman, a former chairman of one of Maxwell\\'s private companies. Mr Steadman indicated yesterday he intended the show to go on and that the attorney-general\\'s application for an injunction would be contested. However, he said he was leaving matters in the hands of his lawyers. Press coverage of the late publisher since his death has already caused deep concern to the Maxwell brothers\\' lawyers . Mr Alun Jones QC, Kevin Maxwell\\'s barrister, led calls for reporting restrictions to be placed on a recent High Court ruling that Robert Maxwell had been fraudulent in his dealings with shares in Berlitz, the publishing company. Turning down his request, the judge asked him: \\'Is it going to be your client\\'s defence that Mr Robert Maxwell was not guilty of misappropriation\\'? At that point, lawyers in court themselves fell about laughing . Countries:- GBZ United Kingdom, EC . Industries:- P9211 Courts . Types:- NEWS General News . The Financial Times London Page 1 Two writs have been filed alleging that Goldman Sachs, the US-based investment bank, assisted in diverting Pounds 55m from two pension schemes controlled by Robert Maxwell to ensure its own debts from Maxwell interests would be repaid. The writs were filed late last week in the State Supreme Court in Manhattan by trustees for Mirror Group Newspapers Pension Scheme and Maxwell Communication Corpora-tion Works Pension Scheme. The trustees seek more than Dollars 100m for the sale of shares plus interest, commission charges and punitive damages from Goldman and Mr Eric Sheinberg, partner in charge of international equities trading. The writs centre on the purchase of Pounds 55m of MCC shares from the pension schemes by two Swiss trusts, Servex and Yakosa, which were transacted through Goldman and for which the schemes were never paid. The writs allege Goldman was aware the trusts were controlled by Robert Maxwell. The writs also allege that on May 28 1991 - the same date Mr Kevin Maxwell arranged for the pension fund share transaction to be paid for - Goldman was due to receive Dollars 58.2m for an unrelated transaction selling MCC stock to an unnamed American lawyer \\'with close connections to Robert Maxwell\\'. The writs claim that Goldman was \\'competing directly with its customer, the pension fund trustee, for payment\\'. On April 26 1991, they say, Mr Kevin Maxwell told Mr Sheinberg to sell the pension scheme shares to the Swiss trusts. On May 23 he told Goldman to remit the proceeds of the sale not to the pension schemes but to Bishopsgate Investment Trust, which Goldman knew or should have known was controlled by the Maxwell family. The writs allege that after the deal was struck Mr Trevor Cook, MGN pension fund administrator, told Goldman that proceeds of the sale should be paid to the pension scheme, but when Mr Kevin Maxwell ordered the proceeds to be paid to BIT. The writs say that Goldman and Sheinberg \\'made no reasonable effort to determine who had actual authority to direct for the pension fund that the shares be sold and where the more than Dollars 47m in proceeds from the transfer of the 12.5m shares should go\\'. Goldman said it had \\'received no money or other benefit from these transactions other than its brokerage commissions of Pounds 110,000 which were substantially less than the amount of the applicable stamp duties paid to the Inland Revenue of Pounds 215,000\\' . Companies:- Goldman Sachs Group Limited Partnership . Countries:- USZ United States of America . Industries:- P9211 Courts . Types:- COMP Company News . The Financial Times London Page 9 British media entrepreneur Robert Maxwell said Monday that he is involved in negotiations to buy a U.S. newspaper valued \"in the hundreds of millions of dollars\" . Maxwell declined to identify the newspaper, but his comments prompted industry speculation that it might be Gannett\\'s USA Today, Tribune Co.\\'s New York Daily News or the Chicago Sun-Times . Officials of each of those newspapers denied that they were negotiating with Maxwell . Maxwell\\'s comments were made to reporters at the annual meeting in New York of Maxwell\\'s Berlitz International and were confirmed later by a spokesman for Maxwell Communications, the investor\\'s London-based holding company. The spokesman declined to elaborate on the remarks, and said Maxwell had left the United States . The Daily News has one of the United States\\' largest circulations, but in recent years it has struggled to restore profitability and maintain circulation in a market with three other dailies. The paper is conducting difficult labor contract negotiations with its unions . Some analysts said it might make sense for Maxwell to try to purchase USA Today, since it would mesh well with his efforts to print and distribute his month-old \"pan-European\" English-language paper, The European, in this country. Maxwell has already been in negotiations with USA Today officials about printing the paper for U.S. distribution . Other industry officials conjectured that Maxwell might be talking to the Chicago Sun-Times, which has seen daily circulation slide more than 100,000 papers, to about 533,000, since 1985 . Maxwell, who publishes Britain\\'s Daily Mirror, recently bought three U.S. supermarket tabloids, the Globe, National Examiner and the Sun, for an estimated $100 million . Photo, Donna F. Tuttle ACQUISITIONS; MAXWELL, ROBERT; NEWSPAPERS -- UNITED STATES Maxwell\\'s death ended the reign of a contentious media baron who battled unions, barked out orders in eight languages and bullied editors as he built a $2 billion media conglomerate. \"He was larger than life . . . the Citizen Kane of his time,\" said British Conservative Party lawmaker Anthony Beaumont-Dark, referring to Orson Welles\\' classic movie about a publishing baron, presumed to have been William Randolph Hearst. \"If you wrote a film about his life, it would be rejected as unrealistic.\"; A labor union leader once said Maxwell \"could charm the birds out of the trees. And then shoot them.\"; The Czechoslovak-born Maxwell, who escaped the Holocaust and emigrated to Britain in 1940, personally ran his publishing empire, often making minute-to-minute decisions. Maxwell\\'s sons, Kevin, 32, and Ian, 35, took over running the businesses Tuesday. \"What normal people consider pressure was meat and drink to Robert Maxwell,\" said Charles Wilson, editorial director of Maxwell\\'s Mirror Group Newspapers. His death prompted immediate concern in British financial circles about the future of his debt-laden empire and in New York about the future of the Daily News, one of the nation\\'s largest metropolitan papers. Among Maxwell\\'s assets were the Macmillan publishing house in New York, Britain\\'s No. 2 paper, the Daily Mirror, The Daily Record, and The European and British Printing & Communications Corp., Britain\\'s largest printing company. On the steps of Mirror Group Newspapers in London, Ian Maxwell told reporters the moment was tragic not only for his family but also for Maxwell\\'s thousands of employees. \"This paper has lost its publisher and its chairman and its savior.\"; British Prime Minister John Major called Maxwell \"a great character who will be missed.\"; \"Maxwell was a passionate friend of Israel, and we are sorry about this heavy tragedy,\" Israeli Prime Minister Yitzhak Shamir said. \"God bless his memory.\"; His body was found 20 miles northwest of Grand Canary Island after an extensive air-and-sea search, officials at the rescue center in Madrid said. The body was taken by helicopter to the Gando air base on Grand Canary Island, where it was identified by Maxwell\\'s wife of more than 40 years, Elizabeth, and their son, Phillip. An autopsy is planned for today, and the cause of death is officially still unknown. Details of Maxwell\\'s death are sketchy. He was last seen alive on the deck of his yacht at 4:45 a.m. EST, Daily News spokesman John Campi said. At 11 a.m., a business call arrived from New York, and the crew discovered that Maxwell was not aboard. Campi said Capt. Gus Rankin then radioed a distress call. The body was found several hours later. Wilson said there had been no suggestion of foul play. \"We can only assume that Mr. Maxwell slipped and fell overboard,\" he said. His mysterious death came as Maxwell was embroiled in an international controversy, something common in a life that had the improbable, extravagant and sometimes mysterious character of British fiction. Maxwell had just been accused in a book by reporter Seymour Hersh of having close ties to the Israeli secret service. Maxwell had denied the accusations . Mercury News Wire Services USA Tenerife, Canary Islands Morning Final SJ San Jose Mercury News 911106 Wednesday November 1A 1991 WEST PHOTO; MAP CA 596 Wednesday, November 6, 1991 00311092,SJ1 Copyright 1991, San Jose Mercury News 1 ENG FRONT Investigators have said Maxwell siphoned money from his companies in a desperate attempt to deal with his empire\\'s crushing debts. They also have said some questionable transactions may have occurred after Maxwell\\'s death. In an interview published today by the Daily Mirror, Robert Maxwell\\'s London flagship newspaper, Kevin Maxwell was quoted as saying of the pensioners:; \"I am desperately sorry for them. But I have to be honest. The debts are so enormous that when everything is sorted out there will be nothing left.\"; One week ago, the Serious Fraud Office, a government prosecution agency, began investigating Mirror Group Newspapers PLC\\'s pension fund assets and related matters. The company says about $630 million was taken from its pension fund without authority. Kevin Maxwell spoke with the Daily Mirror as he flew to New York on Tuesday for talks on the future of the Daily News, which his father bought in March. Kevin Maxwell is now the publisher. In a report today, The Washington Post quoted unidentified sources as saying Robert Maxwell never created the pension fund for Daily News managers he promised to start with funding from Tribune Co., which sold the paper to Maxwell. Pension money accumulated before the sale wasn\\'t affected, it said. Revelations of Maxwell\\'s financial manipulations have led to numerous newspaper characterizations of him as a crook. \"I have to say to myself that given the sequence of events and looking at the whole picture, that a lot of it is fair comment,\" Kevin Maxwell was quoted as saying by the Daily Mirror. Asked how he thought his father died, he was quoted as saying: \"Suicide? Not the remotest possibility.\"; Maxwell\\'s body was found in the sea off the Canary Islands on Nov. 5. He had been cruising on his yacht. Preliminary findings by Spanish pathologists indicated he could have fallen into the sea after a heart attack. Kevin Maxwell has been linked to transactions of a pension fund management firm at the center of the controversy over the missing money, investigators say. He and brother Ian are under court order to disclose by next week what they know about the affairs of Bishopsgate Investment Management Ltd., one of about 40 companies controlled by their father. In another development, The Financial Times said today that documents show creditors face losses of at least $905 million on loans to Robert Maxwell\\'s private companies . Associated Press USA London Stock Final SJ San Jose Mercury News 911211 Wednesday December 1D 1991 WEST CA 466 Wednesday, December 11, 1991 00346032,SJ1 Copyright 1991, San Jose Mercury News 1 ENG Mirror\\'s flagship publication is the tabloid Daily Mirror, with sales of three million copies daily. Last month, in another money-raising move, Mr. Maxwell\\'s Maxwell Communication Corp. sold its Pergamon Press PLC unit for #440 million. In other changes, Mr. Maxwell\\'s son Ian, who has been appointed deputy chairman of Mirror Group, will resign from his post at Maxwell Communication, where he was joint deputy managing director. Maxwell Communication said last month that its management would be taken over by Kevin Maxwell, Ian\\'s brother. Robert Maxwell bought Mirror Group in 1984 from Reed International PLC for #113 million. Through staff cuts and heavy spending on printing facilities, Mr. Maxwell built Mirror into one of Britain\\'s most profitable newspaper groups. In 1990, Mirror had profit of #37.2 million, or 28.2 pence a share, on revenue of #445 million. Proceeds from the share flotation will be used to strengthen and refinance the group\\'s balance sheet. About #210 million will be used to pay back bank loans and the rest to pay in full a loan from Robert Maxwell Holdings Ltd. Salomon Bros. International is underwriting the international part of the offering, covering approximately one-third of the shares on sale, to be privately placed with institutional investors in the U.S., Canada and Europe. The other two-thirds of the shares are to be divided between private and institutional investors in Britain. A relatively low minimum-investment figure of #250 has been set to attract small investors, particularly readers of Mirror publications .'}\n"
     ]
    }
   ],
   "source": [
    "# Read the coreference-resolved sentences from the file\n",
    "coref_sentences = []\n",
    "with open(\"output/d112h_coref\", \"r\", encoding=\"utf-8\") as coref_file:\n",
    "    for line in coref_file:\n",
    "        coref_sentences.append(line.strip())\n",
    "\n",
    "# Create a new dictionary with the same metadata as sentences_dict, but replace 'sentence_text' with the coref sentence\n",
    "coref_sentence_text = {}\n",
    "for idx, key in enumerate(sorted_sentences_keys):\n",
    "    # Copy the metadata\n",
    "    meta = sentences_dict[key].copy()\n",
    "    # Replace the sentence_text with the coref-resolved sentence if available\n",
    "    if idx < len(coref_sentences):\n",
    "        meta['sentence_text'] = coref_sentences[idx]\n",
    "    coref_sentence_text[key] = meta\n",
    "\n",
    "# Example: print the first coref sentence with metadata\n",
    "print(coref_sentence_text[sorted_sentences_keys[0]])"
   ]
  },
  {
   "cell_type": "code",
   "execution_count": null,
   "id": "c674d987",
   "metadata": {},
   "outputs": [
    {
     "name": "stdout",
     "output_type": "stream",
     "text": [
      "Coreference sentences written to data/DUC_TEST/test/d112h_coref\n"
     ]
    },
    {
     "ename": "",
     "evalue": "",
     "output_type": "error",
     "traceback": [
      "\u001b[1;31mThe Kernel crashed while executing code in the current cell or a previous cell. \n",
      "\u001b[1;31mPlease review the code in the cell(s) to identify a possible cause of the failure. \n",
      "\u001b[1;31mClick <a href='https://aka.ms/vscodeJupyterKernelCrash'>here</a> for more info. \n",
      "\u001b[1;31mView Jupyter <a href='command:jupyter.viewOutput'>log</a> for further details."
     ]
    }
   ],
   "source": [
    "import os\n",
    "\n",
    "output_dir = \"data/DUC_TEXT/test\"\n",
    "os.makedirs(output_dir, exist_ok=True)\n",
    "\n",
    "with open(os.path.join(output_dir, \"d112h_coref\"), \"w\", encoding=\"utf-8\") as out_f:\n",
    "    for key in sorted_sentences_keys:\n",
    "        meta = sentences_dict[key]\n",
    "        sentence = meta['sentence_text']\n",
    "        doc_id = meta['doc_id']\n",
    "        num = meta['num']\n",
    "        wdcount = meta['wdcount']\n",
    "        out_f.write(f'<s doc_id=\"{doc_id}\" num=\"{num}\" wdcount=\"{wdcount}\"> {sentence}</s>\\n')\n",
    "print(\"Coreference sentences written to data/DUC_TEST/test/d112h_coref\")"
   ]
  },
  {
   "cell_type": "code",
   "execution_count": null,
   "id": "91b1022c",
   "metadata": {},
   "outputs": [],
   "source": []
  }
 ],
 "metadata": {
  "kernelspec": {
   "display_name": "py312",
   "language": "python",
   "name": "python3"
  },
  "language_info": {
   "codemirror_mode": {
    "name": "ipython",
    "version": 3
   },
   "file_extension": ".py",
   "mimetype": "text/x-python",
   "name": "python",
   "nbconvert_exporter": "python",
   "pygments_lexer": "ipython3",
   "version": "3.12.11"
  }
 },
 "nbformat": 4,
 "nbformat_minor": 5
}
